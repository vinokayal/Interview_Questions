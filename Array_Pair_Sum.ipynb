{
 "cells": [
  {
   "cell_type": "markdown",
   "metadata": {},
   "source": [
    "# Array Pair Sum\n",
    "## Given an integer array, output all the unique pairs that sum up to a specific value k.\n",
    "### if the input:\n",
    "pair_sum([1,3,2,2],4)\n",
    "would return 2 pairs:\n",
    "(1,3)\n",
    "(2,2)\n",
    "\n",
    "like\n",
    "1+3 = 4\n",
    "2+2 =4"
   ]
  },
  {
   "cell_type": "code",
   "execution_count": 5,
   "metadata": {},
   "outputs": [
    {
     "name": "stdout",
     "output_type": "stream",
     "text": [
      "[(1, 3), (2, 2)]\n"
     ]
    }
   ],
   "source": [
    "def pair_sum(arrays, k):\n",
    "    if len(arrays)<2:\n",
    "        print(\"Too Small\")\n",
    "    seen = set()\n",
    "    output=set()\n",
    "    \n",
    "    for num in arrays:\n",
    "        target = k - num\n",
    "        if target not in seen:\n",
    "            seen.add(num)\n",
    "        else:\n",
    "            output.add((min(num,target),max(num,target)))\n",
    "    \n",
    "    #print(\"\\n\".join(map(str, list(output))))\n",
    "    print(list(output))\n",
    "\n",
    "pair_sum([1,3,2,2],4)"
   ]
  }
 ],
 "metadata": {
  "kernelspec": {
   "display_name": "Python 3",
   "language": "python",
   "name": "python3"
  },
  "language_info": {
   "codemirror_mode": {
    "name": "ipython",
    "version": 3
   },
   "file_extension": ".py",
   "mimetype": "text/x-python",
   "name": "python",
   "nbconvert_exporter": "python",
   "pygments_lexer": "ipython3",
   "version": "3.7.7"
  }
 },
 "nbformat": 4,
 "nbformat_minor": 4
}
