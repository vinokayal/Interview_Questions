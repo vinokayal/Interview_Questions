{
 "cells": [
  {
   "cell_type": "code",
   "execution_count": 1,
   "metadata": {},
   "outputs": [],
   "source": [
    "import random\n",
    "import string"
   ]
  },
  {
   "cell_type": "code",
   "execution_count": 2,
   "metadata": {},
   "outputs": [
    {
     "name": "stdin",
     "output_type": "stream",
     "text": [
      "Enter the Length of the password:  6\n",
      "Special Characters allowed(y/n): y\n"
     ]
    },
    {
     "name": "stdout",
     "output_type": "stream",
     "text": [
      "J#q$L$O#x#h#\n"
     ]
    }
   ],
   "source": [
    "def  password_gen(len_1,spl):\n",
    "\n",
    "    word_chc=string.ascii_letters\n",
    "    spl_char = ['$','#']\n",
    "    out_pass = \"\"\n",
    "\n",
    "    for n in range(len_1):\n",
    "        if spl == 'y':\n",
    "            out_pass = random.choice(word_chc) + random.choice(spl_char) + out_pass\n",
    "        else:\n",
    "            out_pass=random.choice(word_chc)+out_pass\n",
    "\n",
    "    return out_pass\n",
    "\n",
    "\n",
    "len_1=int(input(\"Enter the Length of the password: \"))\n",
    "spl = input(\"Special Characters allowed(y/n):\")\n",
    "print(password_gen(len_1,spl))\n",
    "        \n",
    "    "
   ]
  },
  {
   "cell_type": "code",
   "execution_count": null,
   "metadata": {},
   "outputs": [],
   "source": []
  }
 ],
 "metadata": {
  "kernelspec": {
   "display_name": "Python 3",
   "language": "python",
   "name": "python3"
  },
  "language_info": {
   "codemirror_mode": {
    "name": "ipython",
    "version": 3
   },
   "file_extension": ".py",
   "mimetype": "text/x-python",
   "name": "python",
   "nbconvert_exporter": "python",
   "pygments_lexer": "ipython3",
   "version": "3.8.3"
  }
 },
 "nbformat": 4,
 "nbformat_minor": 4
}
