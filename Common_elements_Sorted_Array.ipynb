{
 "cells": [
  {
   "cell_type": "markdown",
   "metadata": {},
   "source": [
    "### Common Elements in two sorted Arrays"
   ]
  },
  {
   "cell_type": "code",
   "execution_count": 2,
   "metadata": {},
   "outputs": [
    {
     "name": "stdout",
     "output_type": "stream",
     "text": [
      "[1, 4, 9]\n"
     ]
    }
   ],
   "source": [
    "def common_number(a,b):\n",
    "    p1=0\n",
    "    p2=0\n",
    "    result=[]\n",
    "    while p1 < len(a) and p2< len(b):\n",
    "        if a[p1]==b[p2]:\n",
    "            result.append(a[p1])\n",
    "            p1 += 1\n",
    "            p2 += 2\n",
    "        elif a[p1] > b[p2]:\n",
    "            p2 += 1\n",
    "        else:\n",
    "            p1 +=1\n",
    "    return result\n",
    "\n",
    "print(common_number([1,3,4,6,7,9],[1,2,4,5,9,10]))"
   ]
  }
 ],
 "metadata": {
  "kernelspec": {
   "display_name": "Python 3",
   "language": "python",
   "name": "python3"
  },
  "language_info": {
   "codemirror_mode": {
    "name": "ipython",
    "version": 3
   },
   "file_extension": ".py",
   "mimetype": "text/x-python",
   "name": "python",
   "nbconvert_exporter": "python",
   "pygments_lexer": "ipython3",
   "version": "3.7.7"
  }
 },
 "nbformat": 4,
 "nbformat_minor": 4
}
